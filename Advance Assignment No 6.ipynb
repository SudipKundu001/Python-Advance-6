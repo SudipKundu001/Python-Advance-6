{
 "cells": [
  {
   "cell_type": "markdown",
   "id": "a89e6f39",
   "metadata": {},
   "source": [
    ">__Q1. Describe three applications for exception processing.__"
   ]
  },
  {
   "cell_type": "markdown",
   "id": "f4bb7991",
   "metadata": {},
   "source": [
    "Ans. \n",
    "1. ZeroDivisionError: Occurs when a number is divided by zero.\n",
    "2. NameError: It occurs when a name is not found. It may be local or global.\n",
    "3. IndentationError: If incorrect indentation is given."
   ]
  },
  {
   "cell_type": "markdown",
   "id": "34987a27",
   "metadata": {},
   "source": [
    ">__Q2. What happens if you don't do something extra to treat an exception?__"
   ]
  },
  {
   "cell_type": "markdown",
   "id": "ef2afe8c",
   "metadata": {},
   "source": [
    "Ans.  When an exception occurred, if you don't handle it, the program terminates abruptly and the code past the line that caused the exception will not get executed."
   ]
  },
  {
   "cell_type": "markdown",
   "id": "f0b458d6",
   "metadata": {},
   "source": [
    ">__Q3. What are your options for recovering from an exception in your script?__"
   ]
  },
  {
   "cell_type": "markdown",
   "id": "44685f20",
   "metadata": {},
   "source": [
    "Ans. Handling an exception <br>\n",
    "* A single try statement can have multiple except statements. \n",
    "* You can also provide a generic except clause, which handles any exception.\n",
    "* After the except clause(s), you can include an else-clause. \n",
    "* The else-block is a good place for code that does not need the try: block's protection.\n"
   ]
  },
  {
   "cell_type": "markdown",
   "id": "1f398fc9",
   "metadata": {},
   "source": [
    ">__Q4. Describe two methods for triggering exceptions in your script.__"
   ]
  },
  {
   "cell_type": "markdown",
   "id": "4d913abb",
   "metadata": {},
   "source": [
    "Ans.  To avoid such a scenario, there are two methods to handle Python exceptions:\n",
    "* Try – This method catches the exceptions raised by the program.\n",
    "* Raise – Triggers an exception manually using custom exceptions."
   ]
  },
  {
   "cell_type": "markdown",
   "id": "57cfe485",
   "metadata": {},
   "source": [
    ">__Q5. Identify two methods for specifying actions to be executed at termination time, regardless of whether or not an exception exists.__"
   ]
  },
  {
   "cell_type": "markdown",
   "id": "8cb21f6a",
   "metadata": {},
   "source": [
    "Ans.  The optional else clause contains codes to be executed if no exception occurs. The optional finally block contains codes to be executed irrespective of whether an exception occurs or not."
   ]
  }
 ],
 "metadata": {
  "kernelspec": {
   "display_name": "Python 3",
   "language": "python",
   "name": "python3"
  },
  "language_info": {
   "codemirror_mode": {
    "name": "ipython",
    "version": 3
   },
   "file_extension": ".py",
   "mimetype": "text/x-python",
   "name": "python",
   "nbconvert_exporter": "python",
   "pygments_lexer": "ipython3",
   "version": "3.8.8"
  }
 },
 "nbformat": 4,
 "nbformat_minor": 5
}
